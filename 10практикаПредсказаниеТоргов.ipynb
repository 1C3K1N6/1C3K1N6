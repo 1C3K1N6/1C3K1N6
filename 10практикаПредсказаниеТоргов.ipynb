{
  "nbformat": 4,
  "nbformat_minor": 0,
  "metadata": {
    "colab": {
      "private_outputs": true,
      "provenance": [],
      "mount_file_id": "1G2b3DoYIWNtW5lFf0p4KKXueVqtttG6X",
      "authorship_tag": "ABX9TyNYe/jX4HuzN5xTK8kk3t2p",
      "include_colab_link": true
    },
    "kernelspec": {
      "name": "python3",
      "display_name": "Python 3"
    },
    "language_info": {
      "name": "python"
    }
  },
  "cells": [
    {
      "cell_type": "markdown",
      "metadata": {
        "id": "view-in-github",
        "colab_type": "text"
      },
      "source": [
        "<a href=\"https://colab.research.google.com/github/1C3K1N6/1C3K1N6/blob/main/10%D0%BF%D1%80%D0%B0%D0%BA%D1%82%D0%B8%D0%BA%D0%B0%D0%9F%D1%80%D0%B5%D0%B4%D1%81%D0%BA%D0%B0%D0%B7%D0%B0%D0%BD%D0%B8%D0%B5%D0%A2%D0%BE%D1%80%D0%B3%D0%BE%D0%B2.ipynb\" target=\"_parent\"><img src=\"https://colab.research.google.com/assets/colab-badge.svg\" alt=\"Open In Colab\"/></a>"
      ]
    },
    {
      "cell_type": "code",
      "execution_count": null,
      "metadata": {
        "id": "lJ5cdRntRzfb"
      },
      "outputs": [],
      "source": [
        "import pandas as pd\n",
        "import numpy as np\n",
        "import matplotlib.pyplot as plt\n",
        "from sklearn.preprocessing import MinMaxScaler\n",
        "from tensorflow.keras.models import Sequential\n",
        "from tensorflow.keras.layers import LSTM, Dense\n",
        "\n",
        "# Загрузка данных (пример для данных из строки)\n",
        "torg = '/content/drive/MyDrive/adre.us.csv'\n",
        "df = pd.read_csv(torg) # wget скачал в рабочую директорию файл с датасетом и мы его уже можем использовать\n",
        "\n",
        "torg2 = '/content/drive/MyDrive/agz.us.csv'\n",
        "df2 = pd.read_csv(torg2)\n",
        "#df = pd.read_csv(pd.compat.StringIO(data), parse_dates=['Date'], index_col='Date')\n",
        "#df = pd.read_csv(data, parse_dates=['Date'], index_col='Date')\n",
        "\n",
        "# Выбор признака для прогноза (цена закрытия) agz.us.csv\n"
      ]
    },
    {
      "cell_type": "code",
      "source": [
        "df['Date'] = pd.to_datetime(df['Date'])\n",
        "df2['Date'] = pd.to_datetime(df2['Date'])\n",
        "df.head().info()\n",
        "df2.head().info()\n",
        "df.head()\n",
        "data = df[['Close']].values\n",
        "data2 = df2[['Close']].values"
      ],
      "metadata": {
        "id": "CM6XTEjbk1am"
      },
      "execution_count": null,
      "outputs": []
    },
    {
      "cell_type": "code",
      "source": [
        "plt.figure(figsize=(12, 6))\n",
        "plt.plot(df['Date'], df['Close'], label='Цена закрытия')\n",
        "plt.title('Исторические данные цены закрытия (1ый)')\n",
        "plt.xlabel('Дата')\n",
        "plt.ylabel('Цена')\n",
        "plt.legend()\n",
        "plt.show()"
      ],
      "metadata": {
        "id": "we2Hj7dwks7o"
      },
      "execution_count": null,
      "outputs": []
    },
    {
      "cell_type": "code",
      "source": [
        "plt.figure(figsize=(12, 6))\n",
        "plt.plot(df2['Date'], df2['Close'], label='Цена закрытия')\n",
        "plt.title('Исторические данные цены закрытия (2ой)')\n",
        "plt.xlabel('Дата')\n",
        "plt.ylabel('Цена')\n",
        "plt.legend()\n",
        "plt.show()"
      ],
      "metadata": {
        "collapsed": true,
        "id": "omDuhtV58xd4"
      },
      "execution_count": null,
      "outputs": []
    },
    {
      "cell_type": "code",
      "source": [
        "# Нормализация данных\n",
        "scaler = MinMaxScaler(feature_range=(0, 1))\n",
        "scaled_data = scaler.fit_transform(data)\n",
        "\n",
        "# Создание временных окон\n",
        "def create_dataset(df, window=60):\n",
        "    X, y = [], []\n",
        "    for i in range(window, len(df)):\n",
        "        X.append(df[i-window:i, 0])\n",
        "        y.append(df[i, 0])\n",
        "    return np.array(X), np.array(y)\n",
        "\n",
        "window = 60\n",
        "X, y = create_dataset(scaled_data, window)\n",
        "\n",
        "# Разделение на обучающую и тестовую выборки\n",
        "split = int(0.8 * len(X))\n",
        "X_train, X_test = X[:split], X[split:]\n",
        "y_train, y_test = y[:split], y[split:]\n",
        "\n",
        "# Преобразование в 3D-тензор для LSTM\n",
        "X_train = np.reshape(X_train, (X_train.shape[0], X_train.shape[1], 1))\n",
        "X_test = np.reshape(X_test, (X_test.shape[0], X_test.shape[1], 1))"
      ],
      "metadata": {
        "id": "dEXtH8E1nPm9"
      },
      "execution_count": null,
      "outputs": []
    },
    {
      "cell_type": "code",
      "source": [
        "model = Sequential()\n",
        "model.add(LSTM(units=50, return_sequences=True, input_shape=(X_train.shape[1], 1)))\n",
        "model.add(LSTM(units=50))\n",
        "model.add(Dense(1))\n",
        "\n",
        "model.compile(optimizer='adam', loss='mean_squared_error')\n",
        "model.fit(X_train, y_train, epochs=20, batch_size=32, validation_split=0.1)"
      ],
      "metadata": {
        "id": "2s2MP1T-nVKl"
      },
      "execution_count": null,
      "outputs": []
    },
    {
      "cell_type": "code",
      "source": [
        "# Предсказание на тестовых данных\n",
        "predictions = model.predict(X_test)\n",
        "predictions = scaler.inverse_transform(predictions)\n",
        "y_test_actual = scaler.inverse_transform(y_test.reshape(-1, 1))\n",
        "\n",
        "# Визуализация\n",
        "plt.figure(figsize=(12, 6))\n",
        "plt.plot(df.index[-len(y_test):], y_test_actual, label='Реальные значения')\n",
        "plt.plot(df.index[-len(y_test):], predictions, label='Предсказанные значения')\n",
        "plt.title('Сравнение реальных и предсказанных значений')\n",
        "plt.xlabel('Дата')\n",
        "plt.ylabel('Цена закрытия')\n",
        "plt.legend()\n",
        "plt.show()"
      ],
      "metadata": {
        "id": "nKa3oggyrteW"
      },
      "execution_count": null,
      "outputs": []
    },
    {
      "cell_type": "code",
      "source": [
        "#scaler = MinMaxScaler(feature_range=(0, 1))\n",
        "scaled_data2 = scaler.fit_transform(data2)\n",
        "\n",
        "# Создание временных окон\n",
        "def create_dataset2(df2, window=60):\n",
        "    X, y = [], []\n",
        "    for i in range(window, len(df2)):\n",
        "        X.append(df2[i-window:i, 0])\n",
        "        y.append(df2[i, 0])\n",
        "    return np.array(X), np.array(y)\n",
        "\n",
        "window = 60\n",
        "X, y = create_dataset(scaled_data2, window)\n",
        "\n",
        "# Разделение на обучающую и тестовую выборки\n",
        "split = int(0.8 * len(X))\n",
        "X_test2 =  X[split:]\n",
        "y_test2 = y[split:]\n",
        "\n",
        "# Преобразование в 3D-тензор для LSTM\n",
        "\n",
        "X_test2 = np.reshape(X_test2, (X_test2.shape[0], X_test2.shape[1], 1))"
      ],
      "metadata": {
        "id": "NfHXjljX_qWL"
      },
      "execution_count": null,
      "outputs": []
    },
    {
      "cell_type": "code",
      "source": [
        "predictions2 = model.predict(X_test2)\n",
        "predictions2 = scaler.inverse_transform(predictions2)\n",
        "y_test_actual2 = scaler.inverse_transform(y_test2.reshape(-1, 1))"
      ],
      "metadata": {
        "id": "HChnzp6TAyXK"
      },
      "execution_count": null,
      "outputs": []
    },
    {
      "cell_type": "code",
      "source": [
        "plt.figure(figsize=(12, 6))\n",
        "plt.plot(df2.index[-len(y_test2):], y_test_actual2, label='Реальные значения')\n",
        "plt.plot(df2.index[-len(y_test2):], predictions2, label='Предсказанные значения')\n",
        "plt.title('Сравнение реальных и предсказанных значений на другом датасете')\n",
        "plt.xlabel('Дата')\n",
        "plt.ylabel('Цена закрытия')\n",
        "plt.legend()\n",
        "plt.show()"
      ],
      "metadata": {
        "id": "qXGFDpoNBGvc"
      },
      "execution_count": null,
      "outputs": []
    }
  ]
}